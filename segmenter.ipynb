{
 "metadata": {
  "language_info": {
   "codemirror_mode": {
    "name": "ipython",
    "version": 3
   },
   "file_extension": ".py",
   "mimetype": "text/x-python",
   "name": "python",
   "nbconvert_exporter": "python",
   "pygments_lexer": "ipython3",
   "version": "3.6.5-final"
  },
  "orig_nbformat": 2,
  "kernelspec": {
   "name": "python3",
   "display_name": "Python 3",
   "language": "python"
  }
 },
 "nbformat": 4,
 "nbformat_minor": 2,
 "cells": [
  {
   "cell_type": "code",
   "execution_count": 60,
   "source": [
    "\r\n",
    "\r\n",
    "import numpy as np\r\n",
    "import matplotlib.path as mpltPath\r\n",
    "import geopandas as gpd\r\n",
    "import pandas as pd\r\n",
    "from shapely.geometry import Point\r\n",
    "\r\n",
    "\r\n",
    "inTxt = 'filepath for point cloud txt'\r\n",
    "inTxt\r\n",
    "headers = ['x','y','z']\r\n",
    "df = pd.read_csv(inTxt,delimiter=\",\",header=None,names=headers)\r\n"
   ],
   "outputs": [
    {
     "output_type": "stream",
     "name": "stdout",
     "text": [
      "hell0 wrodl\n"
     ]
    }
   ],
   "metadata": {}
  },
  {
   "cell_type": "code",
   "execution_count": 2,
   "source": [
    "gdf = gpd.GeoDataFrame(\r\n",
    "    df.drop(['x', 'y'], axis=1),\r\n",
    "    crs={'init': 'epsg:3879'},\r\n",
    "    geometry=[Point(xy) for xy in zip(df.x, df.y)])"
   ],
   "outputs": [
    {
     "output_type": "stream",
     "name": "stderr",
     "text": [
      "C:\\python\\lib\\site-packages\\pyproj\\crs\\crs.py:53: FutureWarning: '+init=<authority>:<code>' syntax is deprecated. '<authority>:<code>' is the preferred initialization method. When making the change, be mindful of axis order changes: https://pyproj4.github.io/pyproj/stable/gotchas.html#axis-order-changes-in-proj-6\n",
      "  return _prepare_from_string(\" \".join(pjargs))\n"
     ]
    }
   ],
   "metadata": {}
  },
  {
   "cell_type": "code",
   "execution_count": 61,
   "source": [
    "from shapely.geometry import Polygon\r\n",
    "\r\n",
    "xmin,ymin,xmax,ymax =  gdf.total_bounds\r\n",
    "length = 1\r\n",
    "wide = 1\r\n",
    "\r\n",
    "cols = list(np.arange(xmin, xmax + wide, wide))\r\n",
    "rows = list(np.arange(ymin, ymax + length, length))\r\n",
    "\r\n",
    "polygons = []\r\n",
    "for x in cols[:-1]:\r\n",
    "    for y in rows[:-1]:\r\n",
    "        polygons.append(Polygon([(x,y), (x+wide, y), (x+wide, y+length), (x, y+length)]))\r\n",
    "\r\n",
    "grid = gpd.GeoDataFrame({'geometry':polygons})\r\n",
    "grid.to_file(\"grid.shp\")\r\n",
    "#grid = gpd.read_file('grid_fix.shp')\r\n"
   ],
   "outputs": [],
   "metadata": {}
  },
  {
   "cell_type": "code",
   "execution_count": 64,
   "source": [
    "#grid = gpd.GeoDataFrame({'geometry':polygons},crs={'init': 'epsg:3879'})\r\n",
    "gdf.to_crs('epsg:3879')\r\n",
    "points_merged = gpd.sjoin(gdf, grid, how=\"inner\", op='within')\r\n",
    "grid.to_file(\"points_merged.shp\")"
   ],
   "outputs": [
    {
     "output_type": "stream",
     "name": "stderr",
     "text": [
      "ipykernel_launcher:3: UserWarning: CRS mismatch between the CRS of left geometries and the CRS of right geometries.\n",
      "Use `to_crs()` to reproject one of the input geometries to match the CRS of the other.\n",
      "\n",
      "Left CRS: +init=epsg:3879 +type=crs\n",
      "Right CRS: EPSG:3879\n",
      "\n"
     ]
    }
   ],
   "metadata": {}
  },
  {
   "cell_type": "code",
   "execution_count": 66,
   "source": [
    "points_merged.to_file(\"points_merged.shp\")"
   ],
   "outputs": [
    {
     "output_type": "stream",
     "name": "stderr",
     "text": [
      "ipykernel_launcher:1: UserWarning: Column names longer than 10 characters will be truncated when saved to ESRI Shapefile.\n"
     ]
    }
   ],
   "metadata": {}
  },
  {
   "cell_type": "code",
   "execution_count": 28,
   "source": [
    "points = points_merged.loc[points_merged['index_right'] == 2]\r\n",
    "import matplotlib.pyplot as plt\r\n",
    "from mpl_toolkits.mplot3d import Axes3D\r\n",
    "import numpy as np\r\n",
    "from sklearn.decomposition import PCA\r\n",
    "import math \r\n",
    "values = [[x,y,z] for x,y,z in zip(points['geometry'].x , points['geometry'].y,points['z'])]\r\n",
    "X = np.array(values,np.longdouble)\r\n",
    "centroid = np.mean(X, axis=0)\r\n",
    "d = math.sqrt((centroid[0]**2)+(centroid[1]**2)+(centroid[2]**2))\r\n",
    "\r\n",
    "# Function to find distance \r\n",
    "def shortest_distance(x1, y1, z1, a, b, c, d):   \r\n",
    "    print(x1, y1, z1, a, b, c, d)\r\n",
    "    de = abs((a * x1 + b * y1 + c * z1 + d))  \r\n",
    "    print(de)\r\n",
    "    e = (math.sqrt(a * a + b * b + c * c)) \r\n",
    "    print(e)\r\n",
    "    distance = de/e\r\n",
    "    print(\"Perpendicular distance is\", distance) \r\n",
    "    return distance \r\n",
    "error_sum = 0\r\n",
    "for value in values:   \r\n",
    "    \r\n",
    "    # Function call \r\n",
    "    error_sum = error_sum +  shortest_distance(value[0], value[1], value[2],        centroid[0], centroid[1], centroid[2], d)  \r\n",
    "rmse = np.sqrt(np.mean((error_sum)**2))  \r\n",
    "print(rmse) \r\n"
   ],
   "outputs": [
    {
     "output_type": "stream",
     "name": "stdout",
     "text": [
      "25498000.049000002 6677002.006 26.816 25498000.46154545 6677002.485303029 26.83206060606061 26357738.70661963\n",
      "694730402364781.5\n",
      "26357738.70661963\n",
      "Perpendicular distance is 26357739.186112463\n",
      "25498000.005 6677002.125 26.816 25498000.46154545 6677002.485303029 26.83206060606061 26357738.70661963\n",
      "694730402037432.8\n",
      "26357738.70661963\n",
      "Perpendicular distance is 26357739.17369301\n",
      "25498000.401 6677002.948 26.816 25498000.46154545 6677002.485303029 26.83206060606061 26357738.70661963\n",
      "694730417629813.9\n",
      "26357738.70661963\n",
      "Perpendicular distance is 26357739.76526049\n",
      "25498000.444000002 6677002.829 26.826 25498000.46154545 6677002.485303029 26.83206060606061 26357738.70661963\n",
      "694730417931665.0\n",
      "26357738.70661963\n",
      "Perpendicular distance is 26357739.776712578\n",
      "25498000.488 6677002.71 26.826 25498000.46154545 6677002.485303029 26.83206060606061 26357738.70661963\n",
      "694730418259013.8\n",
      "26357738.70661963\n",
      "Perpendicular distance is 26357739.789132033\n",
      "25498000.542 6677002.592 26.826 25498000.46154545 6677002.485303029 26.83206060606061 26357738.70661963\n",
      "694730418848019.4\n",
      "26357738.70661963\n",
      "Perpendicular distance is 26357739.811478626\n",
      "25498000.585 6677002.472999999 26.826 25498000.46154545 6677002.485303029 26.83206060606061 26357738.70661963\n",
      "694730419149870.1\n",
      "26357738.70661963\n",
      "Perpendicular distance is 26357739.822930697\n",
      "25498000.639000002 6677002.345 26.826 25498000.46154545 6677002.485303029 26.83206060606061 26357738.70661963\n",
      "694730419672105.9\n",
      "26357738.70661963\n",
      "Perpendicular distance is 26357739.84274407\n",
      "25498000.683000002 6677002.216 26.826 25498000.46154545 6677002.485303029 26.83206060606061 26357738.70661963\n",
      "694730419932684.6\n",
      "26357738.70661963\n",
      "Perpendicular distance is 26357739.852630306\n",
      "25498000.737 6677002.097 26.826 25498000.46154545 6677002.485303029 26.83206060606061 26357738.70661963\n",
      "694730420515013.1\n",
      "26357738.70661963\n",
      "Perpendicular distance is 26357739.87472357\n",
      "25498000.527 6677002.081 26.855999999999998 25498000.46154545 6677002.485303029 26.83206060606061 26357738.70661963\n",
      "694730415053602.0\n",
      "26357738.70661963\n",
      "Perpendicular distance is 26357739.667520244\n",
      "25498000.484 6677002.2 26.855999999999998 25498000.46154545 6677002.485303029 26.83206060606061 26357738.70661963\n",
      "694730414751751.2\n",
      "26357738.70661963\n",
      "Perpendicular distance is 26357739.656068172\n",
      "25498000.43 6677002.318 26.855999999999998 25498000.46154545 6677002.485303029 26.83206060606061 26357738.70661963\n",
      "694730414162745.5\n",
      "26357738.70661963\n",
      "Perpendicular distance is 26357739.633721575\n",
      "25498000.386 6677002.437000001 26.836 25498000.46154545 6677002.485303029 26.83206060606061 26357738.70661963\n",
      "694730413835396.2\n",
      "26357738.70661963\n",
      "Perpendicular distance is 26357739.6213021\n",
      "25498000.332 6677002.565 26.846 25498000.46154545 6677002.485303029 26.83206060606061 26357738.70661963\n",
      "694730413313160.9\n",
      "26357738.70661963\n",
      "Perpendicular distance is 26357739.60148874\n",
      "25498000.289 6677002.674 26.836 25498000.46154545 6677002.485303029 26.83206060606061 26357738.70661963\n",
      "694730412944539.9\n",
      "26357738.70661963\n",
      "Perpendicular distance is 26357739.587503437\n",
      "25498000.235 6677002.802999999 26.836 25498000.46154545 6677002.485303029 26.83206060606061 26357738.70661963\n",
      "694730412428981.1\n",
      "26357738.70661963\n",
      "Perpendicular distance is 26357739.567943383\n",
      "25498000.191999998 6677002.921 26.816 25498000.46154545 6677002.485303029 26.83206060606061 26357738.70661963\n",
      "694730412120452.8\n",
      "26357738.70661963\n",
      "Perpendicular distance is 26357739.556237966\n",
      "25498000.91 6677002.982999999 26.826 25498000.46154545 6677002.485303029 26.83206060606061 26357738.70661963\n",
      "694730430841991.5\n",
      "26357738.70661963\n",
      "Perpendicular distance is 26357740.266524192\n",
      "25498000.964 6677002.865 26.836 25498000.46154545 6677002.485303029 26.83206060606061 26357738.70661963\n",
      "694730431430997.8\n",
      "26357738.70661963\n",
      "Perpendicular distance is 26357740.288870808\n",
      "25498000.196999997 6677002.091 26.826 25498000.46154545 6677002.485303029 26.83206060606061 26357738.70661963\n",
      "694730406706030.9\n",
      "26357738.70661963\n",
      "Perpendicular distance is 26357739.35081739\n",
      "25498000.153 6677002.21 26.836 25498000.46154545 6677002.485303029 26.83206060606061 26357738.70661963\n",
      "694730406378682.8\n",
      "26357738.70661963\n",
      "Perpendicular distance is 26357739.338397957\n",
      "25498000.109 6677002.3379999995 26.826 25498000.46154545 6677002.485303029 26.83206060606061 26357738.70661963\n",
      "694730406111426.5\n",
      "26357738.70661963\n",
      "Perpendicular distance is 26357739.328258384\n",
      "25498000.055 6677002.457 26.826 25498000.46154545 6677002.485303029 26.83206060606061 26357738.70661963\n",
      "694730405529097.8\n",
      "26357738.70661963\n",
      "Perpendicular distance is 26357739.30616511\n",
      "25498000.012 6677002.576 26.826 25498000.46154545 6677002.485303029 26.83206060606061 26357738.70661963\n",
      "694730405227247.1\n",
      "26357738.70661963\n",
      "Perpendicular distance is 26357739.29471304\n",
      "25498000.511 6677002.941000001 26.826 25498000.46154545 6677002.485303029 26.83206060606061 26357738.70661963\n",
      "694730420387855.2\n",
      "26357738.70661963\n",
      "Perpendicular distance is 26357739.86989926\n",
      "25498000.555 6677002.822000001 26.836 25498000.46154545 6677002.485303029 26.83206060606061 26357738.70661963\n",
      "694730420715204.4\n",
      "26357738.70661963\n",
      "Perpendicular distance is 26357739.88231873\n",
      "25498000.599 6677002.694 26.826 25498000.46154545 6677002.485303029 26.83206060606061 26357738.70661963\n",
      "694730420982459.6\n",
      "26357738.70661963\n",
      "Perpendicular distance is 26357739.892458268\n",
      "25498000.652 6677002.575 26.836 25498000.46154545 6677002.485303029 26.83206060606061 26357738.70661963\n",
      "694730421539290.8\n",
      "26357738.70661963\n",
      "Perpendicular distance is 26357739.913584173\n",
      "25498000.696 6677002.466 26.836 25498000.46154545 6677002.485303029 26.83206060606061 26357738.70661963\n",
      "694730421933409.5\n",
      "26357738.70661963\n",
      "Perpendicular distance is 26357739.92853685\n",
      "25498000.74 6677002.3379999995 26.846 25498000.46154545 6677002.485303029 26.83206060606061 26357738.70661963\n",
      "694730422200665.4\n",
      "26357738.70661963\n",
      "Perpendicular distance is 26357739.93867641\n",
      "25498000.793 6677002.219 26.836 25498000.46154545 6677002.485303029 26.83206060606061 26357738.70661963\n",
      "694730422757496.0\n",
      "26357738.70661963\n",
      "Perpendicular distance is 26357739.9598023\n",
      "25498000.836999997 6677002.1 26.846 25498000.46154545 6677002.485303029 26.83206060606061 26357738.70661963\n",
      "694730423084844.8\n",
      "26357738.70661963\n",
      "Perpendicular distance is 26357739.972221754\n",
      "869805410.3184483\n"
     ]
    }
   ],
   "metadata": {}
  },
  {
   "cell_type": "code",
   "execution_count": 22,
   "source": [
    "\r\n",
    "def shortest_distance(x1, y1, z1, a, b, c, d):   \r\n",
    "    print(x1, y1, z1, a, b, c, d)\r\n",
    "    de = abs(((a * x1) + (b * y1) + (c * z1) + d))  \r\n",
    "    print(de)\r\n",
    "    e = (math.sqrt(a * a + b * b + c * c)) \r\n",
    "    print(e)\r\n",
    "    distance = de/e\r\n",
    "    print(\"Perpendicular distance is\", distance) \r\n",
    "    return distance \r\n",
    "d = math.sqrt((3**2)+(3**2)+(3**2))\r\n",
    "shortest_distance(4,-4,3, 2,-2,5,8)"
   ],
   "outputs": [
    {
     "output_type": "stream",
     "name": "stdout",
     "text": [
      "4 -4 3 2 2 5 8\n",
      "23\n",
      "5.744562646538029\n",
      "Perpendicular distance is 4.003786086981051\n"
     ]
    },
    {
     "output_type": "execute_result",
     "data": {
      "text/plain": [
       "4.003786086981051"
      ]
     },
     "metadata": {},
     "execution_count": 22
    }
   ],
   "metadata": {}
  },
  {
   "cell_type": "code",
   "execution_count": 16,
   "source": [
    "values\r\n",
    "#25498000.569516126 6677456.499677419 22.814935483870972 26357853.82668038"
   ],
   "outputs": [
    {
     "output_type": "execute_result",
     "data": {
      "text/plain": [
       "[[25498000.772, 6677456.992000001, 23.113000000000003],\n",
       " [25498000.816, 6677456.842999999, 23.013],\n",
       " [25498000.85, 6677456.714, 22.973000000000003],\n",
       " [25498000.894, 6677456.585, 22.943],\n",
       " [25498000.928000003, 6677456.456, 22.923000000000002],\n",
       " [25498000.972, 6677456.328, 22.883000000000003],\n",
       " [25498000.52, 6677456.044, 22.673000000000002],\n",
       " [25498000.485999998, 6677456.163, 22.693],\n",
       " [25498000.443000004, 6677456.282000001, 22.723000000000003],\n",
       " [25498000.399, 6677456.41, 22.743000000000002],\n",
       " [25498000.365, 6677456.539, 22.773000000000003],\n",
       " [25498000.321, 6677456.668, 22.803],\n",
       " [25498000.286999997, 6677456.797, 22.833000000000002],\n",
       " [25498000.243, 6677456.916, 22.853],\n",
       " [25498000.395, 6677456.881, 22.883000000000003],\n",
       " [25498000.439, 6677456.752, 22.833000000000002],\n",
       " [25498000.472, 6677456.632999999, 22.823],\n",
       " [25498000.516, 6677456.494, 22.803],\n",
       " [25498000.56, 6677456.365, 22.783],\n",
       " [25498000.604000002, 6677456.246, 22.753],\n",
       " [25498000.648000002, 6677456.128, 22.743000000000002],\n",
       " [25498000.048, 6677456.109, 22.553],\n",
       " [25498000.014000002, 6677456.228999999, 22.573],\n",
       " [25498000.83, 6677456.043, 22.743000000000002],\n",
       " [25498000.796, 6677456.172, 22.743000000000002],\n",
       " [25498000.762, 6677456.301, 22.793000000000003],\n",
       " [25498000.729000002, 6677456.42, 22.813000000000002],\n",
       " [25498000.685, 6677456.549, 22.823],\n",
       " [25498000.661, 6677456.677999999, 22.853],\n",
       " [25498000.617, 6677456.817000001, 22.893],\n",
       " [25498000.583, 6677456.936000001, 22.913]]"
      ]
     },
     "metadata": {},
     "execution_count": 16
    }
   ],
   "metadata": {}
  },
  {
   "cell_type": "code",
   "execution_count": 46,
   "source": [
    "#for i, x in grid.iterrows():\r\n",
    "points = points_merged.loc[points_merged['index_right'] == 1]\r\n",
    "import matplotlib.pyplot as plt\r\n",
    "from mpl_toolkits.mplot3d import Axes3D\r\n",
    "import numpy as np\r\n",
    "from sklearn.decomposition import PCA\r\n",
    "np.set_printoptions(precision=20)\r\n",
    "pca = PCA(n_components=3)\r\n",
    "values = [[x,y,z] for x,y,z in zip(points['geometry'].x , points['geometry'].y,points['z'])]\r\n",
    "\r\n",
    "X = np.array(values,np.longdouble)\r\n",
    "\r\n",
    "\r\n",
    "pca.fit(values)\r\n",
    "eig_vec = pca.components_\r\n",
    "\r\n",
    "\r\n",
    "\r\n",
    "\r\n",
    "\r\n",
    "\r\n",
    "\r\n",
    "\r\n",
    "\r\n",
    "    "
   ],
   "outputs": [],
   "metadata": {}
  },
  {
   "cell_type": "code",
   "execution_count": 23,
   "source": [
    "df1 = pd.DataFrame(X, columns = ['x','y','z'])\r\n",
    "df1['z'].max()\r\n",
    "\r\n"
   ],
   "outputs": [
    {
     "output_type": "execute_result",
     "data": {
      "text/plain": [
       "23.113000000000003"
      ]
     },
     "metadata": {},
     "execution_count": 23
    }
   ],
   "metadata": {}
  },
  {
   "cell_type": "code",
   "execution_count": 47,
   "source": [
    "\r\n",
    "# [0.90946569 0.08816839 0.00236591]\r\n",
    "# Percentage of variance explain by last vector is less 0.2%\r\n",
    "\r\n",
    "# This is the normal vector of minimum variance\r\n",
    "normal = eig_vec[2, :]  # (a, b, c)\r\n",
    "centroid = np.mean(X, axis=0)\r\n",
    "print(normal)\r\n",
    "print(centroid)\r\n",
    "# Every point (x, y, z) on the plane should satisfy a*x+b*y+c*z = d\r\n",
    "# Taking centroid as a point on the plane\r\n",
    "d = -centroid.dot(normal)\r\n",
    "print(d)\r\n",
    "\r\n",
    "# Draw plane\r\n",
    "xx, yy = np.meshgrid(np.arange(np.min(X[:, 0]), np.max(X[:, 0])), np.arange(np.min(X[:, 1]), np.max(X[:, 1])))\r\n",
    "z = (-normal[0] * xx - normal[1] * yy - d) * 1. / normal[2]\r\n",
    "\r\n",
    "# plot the surface\r\n",
    "plt3d = plt.figure().gca(projection='3d')\r\n",
    "plt3d.plot_surface(xx, yy, z)\r\n",
    "plt3d.scatter(*(X.T)) \r\n",
    "\r\n",
    "plt.show()"
   ],
   "outputs": [
    {
     "output_type": "stream",
     "name": "stdout",
     "text": [
      "[ 0.9212081714686757    0.3884673356830856   -0.021647954328853237]\n",
      "[2.5498000643620003e+07 6.6770015008800020e+06 2.7893200000000007e+01]\n",
      "-26082762.928584397\n"
     ]
    },
    {
     "output_type": "display_data",
     "data": {
      "image/png": "[encoded data removed]",
      "image/svg+xml": "<?xml version=\"1.0\" encoding=\"utf-8\" standalone=\"no\"?>\r\n<!DOCTYPE svg PUBLIC \"-//W3C//DTD SVG 1.1//EN\"\r\n  \"http://www.w3.org/Graphics/SVG/1.1/DTD/svg11.dtd\">\r\n<!-- Created with matplotlib (http://matplotlib.org/) -->\r\n<svg height=\"238.84pt\" version=\"1.1\" viewBox=\"0 0 356.2 238.84\" width=\"356.2pt\" xmlns=\"http://www.w3.org/2000/svg\" xmlns:xlink=\"http://www.w3.org/1999/xlink\">\r\n <defs>\r\n  <style type=\"text/css\">\r\n*{stroke-linecap:butt;stroke-linejoin:round;}\r\n  </style>\r\n </defs>\r\n <g id=\"figure_1\">\r\n  <g id=\"patch_1\">\r\n   <path d=\"M 0 238.84 \r\nL 356.2 238.84 \r\nL 356.2 0 \r\nL 0 0 \r\nz\r\n\" style=\"fill:none;\"/>\r\n  </g>\r\n  <g id=\"patch_2\">\r\n   <path d=\"M 10.7 228.14 \r\nL 345.5 228.14 \r\nL 345.5 10.7 \r\nL 10.7 10.7 \r\nz\r\n\" style=\"fill:#ffffff;\"/>\r\n  </g>\r\n  <g id=\"pane3d_1\">\r\n   <g id=\"patch_3\">\r\n    <path d=\"M 55.082913 180.093423 \r\nL 150.904425 126.782062 \r\nL 149.309098 24.912801 \r\nL 48.144909 72.811962 \r\n\" style=\"fill:#f2f2f2;opacity:0.5;stroke:#f2f2f2;stroke-linejoin:miter;\"/>\r\n   </g>\r\n  </g>\r\n  <g id=\"pane3d_2\">\r\n   <g id=\"patch_4\">\r\n    <path d=\"M 150.904425 126.782062 \r\nL 306.126265 156.586553 \r\nL 312.620561 51.645466 \r\nL 149.309098 24.912801 \r\n\" style=\"fill:#e6e6e6;opacity:0.5;stroke:#e6e6e6;stroke-linejoin:miter;\"/>\r\n   </g>\r\n  </g>\r\n  <g id=\"pane3d_3\">\r\n   <g id=\"patch_5\">\r\n    <path d=\"M 55.082913 180.093423 \r\nL 218.397263 214.805609 \r\nL 306.126265 156.586553 \r\nL 150.904425 126.782062 \r\n\" style=\"fill:#ececec;opacity:0.5;stroke:#ececec;stroke-linejoin:miter;\"/>\r\n   </g>\r\n  </g>\r\n  <g id=\"axis3d_1\">\r\n   <g id=\"line2d_1\">\r\n    <path d=\"M 55.082913 180.093423 \r\nL 218.397263 214.805609 \r\n\" style=\"fill:none;stroke:#000000;stroke-linecap:square;stroke-width:0.8;\"/>\r\n   </g>\r\n   <g id=\"text_1\">\r\n    <!-- +2.5498e7 -->\r\n    <defs>\r\n     <path d=\"M 46 62.703125 \r\nL 46 35.5 \r\nL 73.1875 35.5 \r\nL 73.1875 27.203125 \r\nL 46 27.203125 \r\nL 46 0 \r\nL 37.796875 0 \r\nL 37.796875 27.203125 \r\nL 10.59375 27.203125 \r\nL 10.59375 35.5 \r\nL 37.796875 35.5 \r\nL 37.796875 62.703125 \r\nz\r\n\" id=\"DejaVuSans-2b\"/>\r\n     <path d=\"M 19.1875 8.296875 \r\nL 53.609375 8.296875 \r\nL 53.609375 0 \r\nL 7.328125 0 \r\nL 7.328125 8.296875 \r\nQ 12.9375 14.109375 22.625 23.890625 \r\nQ 32.328125 33.6875 34.8125 36.53125 \r\nQ 39.546875 41.84375 41.421875 45.53125 \r\nQ 43.3125 49.21875 43.3125 52.78125 \r\nQ 43.3125 58.59375 39.234375 62.25 \r\nQ 35.15625 65.921875 28.609375 65.921875 \r\nQ 23.96875 65.921875 18.8125 64.3125 \r\nQ 13.671875 62.703125 7.8125 59.421875 \r\nL 7.8125 69.390625 \r\nQ 13.765625 71.78125 18.9375 73 \r\nQ 24.125 74.21875 28.421875 74.21875 \r\nQ 39.75 74.21875 46.484375 68.546875 \r\nQ 53.21875 62.890625 53.21875 53.421875 \r\nQ 53.21875 48.921875 51.53125 44.890625 \r\nQ 49.859375 40.875 45.40625 35.40625 \r\nQ 44.1875 33.984375 37.640625 27.21875 \r\nQ 31.109375 20.453125 19.1875 8.296875 \r\nz\r\n\" id=\"DejaVuSans-32\"/>\r\n     <path d=\"M 10.6875 12.40625 \r\nL 21 12.40625 \r\nL 21 0 \r\nL 10.6875 0 \r\nz\r\n\" id=\"DejaVuSans-2e\"/>\r\n     <path d=\"M 10.796875 72.90625 \r\nL 49.515625 72.90625 \r\nL 49.515625 64.59375 \r\nL 19.828125 64.59375 \r\nL 19.828125 46.734375 \r\nQ 21.96875 47.46875 24.109375 47.828125 \r\nQ 26.265625 48.1875 28.421875 48.1875 \r\nQ 40.625 48.1875 47.75 41.5 \r\nQ 54.890625 34.8125 54.890625 23.390625 \r\nQ 54.890625 11.625 47.5625 5.09375 \r\nQ 40.234375 -1.421875 26.90625 -1.421875 \r\nQ 22.3125 -1.421875 17.546875 -0.640625 \r\nQ 12.796875 0.140625 7.71875 1.703125 \r\nL 7.71875 11.625 \r\nQ 12.109375 9.234375 16.796875 8.0625 \r\nQ 21.484375 6.890625 26.703125 6.890625 \r\nQ 35.15625 6.890625 40.078125 11.328125 \r\nQ 45.015625 15.765625 45.015625 23.390625 \r\nQ 45.015625 31 40.078125 35.4375 \r\nQ 35.15625 39.890625 26.703125 39.890625 \r\nQ 22.75 39.890625 18.8125 39.015625 \r\nQ 14.890625 38.140625 10.796875 36.28125 \r\nz\r\n\" id=\"DejaVuSans-35\"/>\r\n     <path d=\"M 37.796875 64.3125 \r\nL 12.890625 25.390625 \r\nL 37.796875 25.390625 \r\nz\r\nM 35.203125 72.90625 \r\nL 47.609375 72.90625 \r\nL 47.609375 25.390625 \r\nL 58.015625 25.390625 \r\nL 58.015625 17.1875 \r\nL 47.609375 17.1875 \r\nL 47.609375 0 \r\nL 37.796875 0 \r\nL 37.796875 17.1875 \r\nL 4.890625 17.1875 \r\nL 4.890625 26.703125 \r\nz\r\n\" id=\"DejaVuSans-34\"/>\r\n     <path d=\"M 10.984375 1.515625 \r\nL 10.984375 10.5 \r\nQ 14.703125 8.734375 18.5 7.8125 \r\nQ 22.3125 6.890625 25.984375 6.890625 \r\nQ 35.75 6.890625 40.890625 13.453125 \r\nQ 46.046875 20.015625 46.78125 33.40625 \r\nQ 43.953125 29.203125 39.59375 26.953125 \r\nQ 35.25 24.703125 29.984375 24.703125 \r\nQ 19.046875 24.703125 12.671875 31.3125 \r\nQ 6.296875 37.9375 6.296875 49.421875 \r\nQ 6.296875 60.640625 12.9375 67.421875 \r\nQ 19.578125 74.21875 30.609375 74.21875 \r\nQ 43.265625 74.21875 49.921875 64.515625 \r\nQ 56.59375 54.828125 56.59375 36.375 \r\nQ 56.59375 19.140625 48.40625 8.859375 \r\nQ 40.234375 -1.421875 26.421875 -1.421875 \r\nQ 22.703125 -1.421875 18.890625 -0.6875 \r\nQ 15.09375 0.046875 10.984375 1.515625 \r\nz\r\nM 30.609375 32.421875 \r\nQ 37.25 32.421875 41.125 36.953125 \r\nQ 45.015625 41.5 45.015625 49.421875 \r\nQ 45.015625 57.28125 41.125 61.84375 \r\nQ 37.25 66.40625 30.609375 66.40625 \r\nQ 23.96875 66.40625 20.09375 61.84375 \r\nQ 16.21875 57.28125 16.21875 49.421875 \r\nQ 16.21875 41.5 20.09375 36.953125 \r\nQ 23.96875 32.421875 30.609375 32.421875 \r\nz\r\n\" id=\"DejaVuSans-39\"/>\r\n     <path d=\"M 31.78125 34.625 \r\nQ 24.75 34.625 20.71875 30.859375 \r\nQ 16.703125 27.09375 16.703125 20.515625 \r\nQ 16.703125 13.921875 20.71875 10.15625 \r\nQ 24.75 6.390625 31.78125 6.390625 \r\nQ 38.8125 6.390625 42.859375 10.171875 \r\nQ 46.921875 13.96875 46.921875 20.515625 \r\nQ 46.921875 27.09375 42.890625 30.859375 \r\nQ 38.875 34.625 31.78125 34.625 \r\nz\r\nM 21.921875 38.8125 \r\nQ 15.578125 40.375 12.03125 44.71875 \r\nQ 8.5 49.078125 8.5 55.328125 \r\nQ 8.5 64.0625 14.71875 69.140625 \r\nQ 20.953125 74.21875 31.78125 74.21875 \r\nQ 42.671875 74.21875 48.875 69.140625 \r\nQ 55.078125 64.0625 55.078125 55.328125 \r\nQ 55.078125 49.078125 51.53125 44.71875 \r\nQ 48 40.375 41.703125 38.8125 \r\nQ 48.828125 37.15625 52.796875 32.3125 \r\nQ 56.78125 27.484375 56.78125 20.515625 \r\nQ 56.78125 9.90625 50.3125 4.234375 \r\nQ 43.84375 -1.421875 31.78125 -1.421875 \r\nQ 19.734375 -1.421875 13.25 4.234375 \r\nQ 6.78125 9.90625 6.78125 20.515625 \r\nQ 6.78125 27.484375 10.78125 32.3125 \r\nQ 14.796875 37.15625 21.921875 38.8125 \r\nz\r\nM 18.3125 54.390625 \r\nQ 18.3125 48.734375 21.84375 45.5625 \r\nQ 25.390625 42.390625 31.78125 42.390625 \r\nQ 38.140625 42.390625 41.71875 45.5625 \r\nQ 45.3125 48.734375 45.3125 54.390625 \r\nQ 45.3125 60.0625 41.71875 63.234375 \r\nQ 38.140625 66.40625 31.78125 66.40625 \r\nQ 25.390625 66.40625 21.84375 63.234375 \r\nQ 18.3125 60.0625 18.3125 54.390625 \r\nz\r\n\" id=\"DejaVuSans-38\"/>\r\n     <path d=\"M 56.203125 29.59375 \r\nL 56.203125 25.203125 \r\nL 14.890625 25.203125 \r\nQ 15.484375 15.921875 20.484375 11.0625 \r\nQ 25.484375 6.203125 34.421875 6.203125 \r\nQ 39.59375 6.203125 44.453125 7.46875 \r\nQ 49.3125 8.734375 54.109375 11.28125 \r\nL 54.109375 2.78125 \r\nQ 49.265625 0.734375 44.1875 -0.34375 \r\nQ 39.109375 -1.421875 33.890625 -1.421875 \r\nQ 20.796875 -1.421875 13.15625 6.1875 \r\nQ 5.515625 13.8125 5.515625 26.8125 \r\nQ 5.515625 40.234375 12.765625 48.109375 \r\nQ 20.015625 56 32.328125 56 \r\nQ 43.359375 56 49.78125 48.890625 \r\nQ 56.203125 41.796875 56.203125 29.59375 \r\nz\r\nM 47.21875 32.234375 \r\nQ 47.125 39.59375 43.09375 43.984375 \r\nQ 39.0625 48.390625 32.421875 48.390625 \r\nQ 24.90625 48.390625 20.390625 44.140625 \r\nQ 15.875 39.890625 15.1875 32.171875 \r\nz\r\n\" id=\"DejaVuSans-65\"/>\r\n     <path d=\"M 8.203125 72.90625 \r\nL 55.078125 72.90625 \r\nL 55.078125 68.703125 \r\nL 28.609375 0 \r\nL 18.3125 0 \r\nL 43.21875 64.59375 \r\nL 8.203125 64.59375 \r\nz\r\n\" id=\"DejaVuSans-37\"/>\r\n    </defs>\r\n    <g transform=\"translate(37.630965 210.58923)rotate(-348.000453)scale(0.1 -0.1)\">\r\n     <use xlink:href=\"#DejaVuSans-2b\"/>\r\n     <use x=\"83.789062\" xlink:href=\"#DejaVuSans-32\"/>\r\n     <use x=\"147.412109\" xlink:href=\"#DejaVuSans-2e\"/>\r\n     <use x=\"179.199219\" xlink:href=\"#DejaVuSans-35\"/>\r\n     <use x=\"242.822266\" xlink:href=\"#DejaVuSans-34\"/>\r\n     <use x=\"306.445312\" xlink:href=\"#DejaVuSans-39\"/>\r\n     <use x=\"370.068359\" xlink:href=\"#DejaVuSans-38\"/>\r\n     <use x=\"433.691406\" xlink:href=\"#DejaVuSans-65\"/>\r\n     <use x=\"495.214844\" xlink:href=\"#DejaVuSans-37\"/>\r\n    </g>\r\n   </g>\r\n   <g id=\"Line3DCollection_1\">\r\n    <path d=\"M 81.674646 185.74545 \r\nL 176.249533 131.648632 \r\nL 175.926538 29.269844 \r\n\" style=\"fill:none;stroke:#b0b0b0;stroke-width:0.8;\"/>\r\n    <path d=\"M 113.195753 192.445208 \r\nL 206.257055 137.410444 \r\nL 207.464919 34.432402 \r\n\" style=\"fill:none;stroke:#b0b0b0;stroke-width:0.8;\"/>\r\n    <path d=\"M 145.286741 199.266093 \r\nL 236.767192 143.268763 \r\nL 239.558793 39.68589 \r\n\" style=\"fill:none;stroke:#b0b0b0;stroke-width:0.8;\"/>\r\n    <path d=\"M 177.963202 206.211419 \r\nL 267.792676 149.226035 \r\nL 272.222964 45.032731 \r\n\" style=\"fill:none;stroke:#b0b0b0;stroke-width:0.8;\"/>\r\n    <path d=\"M 211.241307 213.284623 \r\nL 299.346677 155.284789 \r\nL 305.47277 50.475434 \r\n\" style=\"fill:none;stroke:#b0b0b0;stroke-width:0.8;\"/>\r\n   </g>\r\n   <g id=\"xtick_1\">\r\n    <g id=\"line2d_2\">\r\n     <path d=\"M 82.489733 185.27922 \r\nL 80.041416 186.679658 \r\n\" style=\"fill:none;stroke:#000000;stroke-linecap:square;stroke-width:0.8;\"/>\r\n    </g>\r\n    <g id=\"text_2\">\r\n     <!-- 0.2 -->\r\n     <defs>\r\n      <path d=\"M 31.78125 66.40625 \r\nQ 24.171875 66.40625 20.328125 58.90625 \r\nQ 16.5 51.421875 16.5 36.375 \r\nQ 16.5 21.390625 20.328125 13.890625 \r\nQ 24.171875 6.390625 31.78125 6.390625 \r\nQ 39.453125 6.390625 43.28125 13.890625 \r\nQ 47.125 21.390625 47.125 36.375 \r\nQ 47.125 51.421875 43.28125 58.90625 \r\nQ 39.453125 66.40625 31.78125 66.40625 \r\nz\r\nM 31.78125 74.21875 \r\nQ 44.046875 74.21875 50.515625 64.515625 \r\nQ 56.984375 54.828125 56.984375 36.375 \r\nQ 56.984375 17.96875 50.515625 8.265625 \r\nQ 44.046875 -1.421875 31.78125 -1.421875 \r\nQ 19.53125 -1.421875 13.0625 8.265625 \r\nQ 6.59375 17.96875 6.59375 36.375 \r\nQ 6.59375 54.828125 13.0625 64.515625 \r\nQ 19.53125 74.21875 31.78125 74.21875 \r\nz\r\n\" id=\"DejaVuSans-30\"/>\r\n     </defs>\r\n     <g transform=\"translate(65.974203 206.208465)scale(0.1 -0.1)\">\r\n      <use xlink:href=\"#DejaVuSans-30\"/>\r\n      <use x=\"63.623047\" xlink:href=\"#DejaVuSans-2e\"/>\r\n      <use x=\"95.410156\" xlink:href=\"#DejaVuSans-32\"/>\r\n     </g>\r\n    </g>\r\n   </g>\r\n   <g id=\"xtick_2\">\r\n    <g id=\"line2d_3\">\r\n     <path d=\"M 113.998312 191.97059 \r\nL 111.587602 193.396239 \r\n\" style=\"fill:none;stroke:#000000;stroke-linecap:square;stroke-width:0.8;\"/>\r\n    </g>\r\n    <g id=\"text_3\">\r\n     <!-- 0.4 -->\r\n     <g transform=\"translate(97.491987 213.037794)scale(0.1 -0.1)\">\r\n      <use xlink:href=\"#DejaVuSans-30\"/>\r\n      <use x=\"63.623047\" xlink:href=\"#DejaVuSans-2e\"/>\r\n      <use x=\"95.410156\" xlink:href=\"#DejaVuSans-34\"/>\r\n     </g>\r\n    </g>\r\n   </g>\r\n   <g id=\"xtick_3\">\r\n    <g id=\"line2d_4\">\r\n     <path d=\"M 146.076182 198.782857 \r\nL 143.704848 200.234407 \r\n\" style=\"fill:none;stroke:#000000;stroke-linecap:square;stroke-width:0.8;\"/>\r\n    </g>\r\n    <g id=\"text_4\">\r\n     <!-- 0.6 -->\r\n     <defs>\r\n      <path d=\"M 33.015625 40.375 \r\nQ 26.375 40.375 22.484375 35.828125 \r\nQ 18.609375 31.296875 18.609375 23.390625 \r\nQ 18.609375 15.53125 22.484375 10.953125 \r\nQ 26.375 6.390625 33.015625 6.390625 \r\nQ 39.65625 6.390625 43.53125 10.953125 \r\nQ 47.40625 15.53125 47.40625 23.390625 \r\nQ 47.40625 31.296875 43.53125 35.828125 \r\nQ 39.65625 40.375 33.015625 40.375 \r\nz\r\nM 52.59375 71.296875 \r\nL 52.59375 62.3125 \r\nQ 48.875 64.0625 45.09375 64.984375 \r\nQ 41.3125 65.921875 37.59375 65.921875 \r\nQ 27.828125 65.921875 22.671875 59.328125 \r\nQ 17.53125 52.734375 16.796875 39.40625 \r\nQ 19.671875 43.65625 24.015625 45.921875 \r\nQ 28.375 48.1875 33.59375 48.1875 \r\nQ 44.578125 48.1875 50.953125 41.515625 \r\nQ 57.328125 34.859375 57.328125 23.390625 \r\nQ 57.328125 12.15625 50.6875 5.359375 \r\nQ 44.046875 -1.421875 33.015625 -1.421875 \r\nQ 20.359375 -1.421875 13.671875 8.265625 \r\nQ 6.984375 17.96875 6.984375 36.375 \r\nQ 6.984375 53.65625 15.1875 63.9375 \r\nQ 23.390625 74.21875 37.203125 74.21875 \r\nQ 40.921875 74.21875 44.703125 73.484375 \r\nQ 48.484375 72.75 52.59375 71.296875 \r\nz\r\n\" id=\"DejaVuSans-36\"/>\r\n     </defs>\r\n     <g transform=\"translate(129.5808 219.990854)scale(0.1 -0.1)\">\r\n      <use xlink:href=\"#DejaVuSans-30\"/>\r\n      <use x=\"63.623047\" xlink:href=\"#DejaVuSans-2e\"/>\r\n      <use x=\"95.410156\" xlink:href=\"#DejaVuSans-36\"/>\r\n     </g>\r\n    </g>\r\n   </g>\r\n   <g id=\"xtick_4\">\r\n    <g id=\"line2d_5\">\r\n     <path d=\"M 178.738911 205.71933 \r\nL 176.408797 207.197491 \r\n\" style=\"fill:none;stroke:#000000;stroke-linecap:square;stroke-width:0.8;\"/>\r\n    </g>\r\n    <g id=\"text_5\">\r\n     <!-- 0.8 -->\r\n     <g transform=\"translate(162.256297 227.071038)scale(0.1 -0.1)\">\r\n      <use xlink:href=\"#DejaVuSans-30\"/>\r\n      <use x=\"63.623047\" xlink:href=\"#DejaVuSans-2e\"/>\r\n      <use x=\"95.410156\" xlink:href=\"#DejaVuSans-38\"/>\r\n     </g>\r\n    </g>\r\n   </g>\r\n   <g id=\"xtick_5\">\r\n    <g id=\"line2d_6\">\r\n     <path d=\"M 212.002643 212.783435 \r\nL 209.715677 214.288946 \r\n\" style=\"fill:none;stroke:#000000;stroke-linecap:square;stroke-width:0.8;\"/>\r\n    </g>\r\n    <g id=\"text_6\">\r\n     <!-- 1.0 -->\r\n     <defs>\r\n      <path d=\"M 12.40625 8.296875 \r\nL 28.515625 8.296875 \r\nL 28.515625 63.921875 \r\nL 10.984375 60.40625 \r\nL 10.984375 69.390625 \r\nL 28.421875 72.90625 \r\nL 38.28125 72.90625 \r\nL 38.28125 8.296875 \r\nL 54.390625 8.296875 \r\nL 54.390625 0 \r\nL 12.40625 0 \r\nz\r\n\" id=\"DejaVuSans-31\"/>\r\n     </defs>\r\n     <g transform=\"translate(195.534721 234.281866)scale(0.1 -0.1)\">\r\n      <use xlink:href=\"#DejaVuSans-31\"/>\r\n      <use x=\"63.623047\" xlink:href=\"#DejaVuSans-2e\"/>\r\n      <use x=\"95.410156\" xlink:href=\"#DejaVuSans-30\"/>\r\n     </g>\r\n    </g>\r\n   </g>\r\n  </g>\r\n  <g id=\"axis3d_2\">\r\n   <g id=\"line2d_7\">\r\n    <path d=\"M 306.126265 156.586553 \r\nL 218.397263 214.805609 \r\n\" style=\"fill:none;stroke:#000000;stroke-linecap:square;stroke-width:0.8;\"/>\r\n   </g>\r\n   <g id=\"text_7\">\r\n    <!-- +6.677e6 -->\r\n    <g transform=\"translate(293.434967 208.979594)rotate(-33.5692)scale(0.1 -0.1)\">\r\n     <use xlink:href=\"#DejaVuSans-2b\"/>\r\n     <use x=\"83.789062\" xlink:href=\"#DejaVuSans-36\"/>\r\n     <use x=\"147.412109\" xlink:href=\"#DejaVuSans-2e\"/>\r\n     <use x=\"179.199219\" xlink:href=\"#DejaVuSans-36\"/>\r\n     <use x=\"242.822266\" xlink:href=\"#DejaVuSans-37\"/>\r\n     <use x=\"306.445312\" xlink:href=\"#DejaVuSans-37\"/>\r\n     <use x=\"370.068359\" xlink:href=\"#DejaVuSans-65\"/>\r\n     <use x=\"431.591797\" xlink:href=\"#DejaVuSans-36\"/>\r\n    </g>\r\n   </g>\r\n   <g id=\"Line3DCollection_2\">\r\n    <path d=\"M 54.78229 69.669299 \r\nL 61.346891 176.608389 \r\nL 224.150226 210.987806 \r\n\" style=\"fill:none;stroke:#b0b0b0;stroke-width:0.8;\"/>\r\n    <path d=\"M 73.82227 60.65426 \r\nL 79.333497 166.601341 \r\nL 240.655452 200.034545 \r\n\" style=\"fill:none;stroke:#b0b0b0;stroke-width:0.8;\"/>\r\n    <path d=\"M 92.326519 51.892879 \r\nL 96.839305 156.861791 \r\nL 256.699518 189.38732 \r\n\" style=\"fill:none;stroke:#b0b0b0;stroke-width:0.8;\"/>\r\n    <path d=\"M 110.317334 43.374598 \r\nL 113.883337 147.379154 \r\nL 272.301486 179.033483 \r\n\" style=\"fill:none;stroke:#b0b0b0;stroke-width:0.8;\"/>\r\n    <path d=\"M 127.815792 35.089439 \r\nL 130.483628 138.143399 \r\nL 287.479378 168.961071 \r\n\" style=\"fill:none;stroke:#b0b0b0;stroke-width:0.8;\"/>\r\n    <path d=\"M 144.841832 27.027959 \r\nL 146.657283 129.145006 \r\nL 302.250256 159.158765 \r\n\" style=\"fill:none;stroke:#b0b0b0;stroke-width:0.8;\"/>\r\n   </g>\r\n   <g id=\"xtick_6\">\r\n    <g id=\"line2d_8\">\r\n     <path d=\"M 222.787692 210.700078 \r\nL 226.878339 211.563906 \r\n\" style=\"fill:none;stroke:#000000;stroke-linecap:square;stroke-width:0.8;\"/>\r\n    </g>\r\n    <g id=\"text_8\">\r\n     <!-- 1.0 -->\r\n     <g transform=\"translate(229.636963 229.798995)scale(0.1 -0.1)\">\r\n      <use xlink:href=\"#DejaVuSans-31\"/>\r\n      <use x=\"63.623047\" xlink:href=\"#DejaVuSans-2e\"/>\r\n      <use x=\"95.410156\" xlink:href=\"#DejaVuSans-30\"/>\r\n     </g>\r\n    </g>\r\n   </g>\r\n   <g id=\"xtick_7\">\r\n    <g id=\"line2d_9\">\r\n     <path d=\"M 239.30616 199.754911 \r\nL 243.357009 200.59443 \r\n\" style=\"fill:none;stroke:#000000;stroke-linecap:square;stroke-width:0.8;\"/>\r\n    </g>\r\n    <g id=\"text_9\">\r\n     <!-- 1.2 -->\r\n     <g transform=\"translate(245.94254 218.693174)scale(0.1 -0.1)\">\r\n      <use xlink:href=\"#DejaVuSans-31\"/>\r\n      <use x=\"63.623047\" xlink:href=\"#DejaVuSans-2e\"/>\r\n      <use x=\"95.410156\" xlink:href=\"#DejaVuSans-32\"/>\r\n     </g>\r\n    </g>\r\n   </g>\r\n   <g id=\"xtick_8\">\r\n    <g id=\"line2d_10\">\r\n     <path d=\"M 255.363265 189.115443 \r\nL 259.374929 189.931665 \r\n\" style=\"fill:none;stroke:#000000;stroke-linecap:square;stroke-width:0.8;\"/>\r\n    </g>\r\n    <g id=\"text_10\">\r\n     <!-- 1.4 -->\r\n     <g transform=\"translate(261.792791 207.897479)scale(0.1 -0.1)\">\r\n      <use xlink:href=\"#DejaVuSans-31\"/>\r\n      <use x=\"63.623047\" xlink:href=\"#DejaVuSans-2e\"/>\r\n      <use x=\"95.410156\" xlink:href=\"#DejaVuSans-34\"/>\r\n     </g>\r\n    </g>\r\n   </g>\r\n   <g id=\"xtick_9\">\r\n    <g id=\"line2d_11\">\r\n     <path d=\"M 270.978069 178.769044 \r\nL 274.951155 179.562927 \r\n\" style=\"fill:none;stroke:#000000;stroke-linecap:square;stroke-width:0.8;\"/>\r\n    </g>\r\n    <g id=\"text_11\">\r\n     <!-- 1.6 -->\r\n     <g transform=\"translate(277.206523 197.399098)scale(0.1 -0.1)\">\r\n      <use xlink:href=\"#DejaVuSans-31\"/>\r\n      <use x=\"63.623047\" xlink:href=\"#DejaVuSans-2e\"/>\r\n      <use x=\"95.410156\" xlink:href=\"#DejaVuSans-36\"/>\r\n     </g>\r\n    </g>\r\n   </g>\r\n   <g id=\"xtick_10\">\r\n    <g id=\"line2d_12\">\r\n     <path d=\"M 286.168599 168.70377 \r\nL 290.103707 169.476217 \r\n\" style=\"fill:none;stroke:#000000;stroke-linecap:square;stroke-width:0.8;\"/>\r\n    </g>\r\n    <g id=\"text_12\">\r\n     <!-- 1.8 -->\r\n     <g transform=\"translate(292.201527 187.185917)scale(0.1 -0.1)\">\r\n      <use xlink:href=\"#DejaVuSans-31\"/>\r\n      <use x=\"63.623047\" xlink:href=\"#DejaVuSans-2e\"/>\r\n      <use x=\"95.410156\" xlink:href=\"#DejaVuSans-38\"/>\r\n     </g>\r\n    </g>\r\n   </g>\r\n   <g id=\"xtick_11\">\r\n    <g id=\"line2d_13\">\r\n     <path d=\"M 300.951917 158.908317 \r\nL 304.849641 159.660185 \r\n\" style=\"fill:none;stroke:#000000;stroke-linecap:square;stroke-width:0.8;\"/>\r\n    </g>\r\n    <g id=\"text_13\">\r\n     <!-- 2.0 -->\r\n     <g transform=\"translate(306.794634 177.246469)scale(0.1 -0.1)\">\r\n      <use xlink:href=\"#DejaVuSans-32\"/>\r\n      <use x=\"63.623047\" xlink:href=\"#DejaVuSans-2e\"/>\r\n      <use x=\"95.410156\" xlink:href=\"#DejaVuSans-30\"/>\r\n     </g>\r\n    </g>\r\n   </g>\r\n  </g>\r\n  <g id=\"axis3d_3\">\r\n   <g id=\"line2d_14\">\r\n    <path d=\"M 306.126265 156.586553 \r\nL 312.620561 51.645466 \r\n\" style=\"fill:none;stroke:#000000;stroke-linecap:square;stroke-width:0.8;\"/>\r\n   </g>\r\n   <g id=\"Line3DCollection_3\">\r\n    <path d=\"M 306.438924 151.53431 \r\nL 150.827461 121.867529 \r\nL 54.749439 174.936962 \r\n\" style=\"fill:none;stroke:#b0b0b0;stroke-width:0.8;\"/>\r\n    <path d=\"M 307.212723 139.030529 \r\nL 150.637052 109.709001 \r\nL 53.923889 162.17158 \r\n\" style=\"fill:none;stroke:#b0b0b0;stroke-width:0.8;\"/>\r\n    <path d=\"M 307.996254 126.369477 \r\nL 150.444349 97.403979 \r\nL 53.087609 149.240302 \r\n\" style=\"fill:none;stroke:#b0b0b0;stroke-width:0.8;\"/>\r\n    <path d=\"M 308.789703 113.548167 \r\nL 150.24931 84.949797 \r\nL 52.240391 136.139874 \r\n\" style=\"fill:none;stroke:#b0b0b0;stroke-width:0.8;\"/>\r\n    <path d=\"M 309.593259 100.563537 \r\nL 150.051892 72.343729 \r\nL 51.382017 122.866954 \r\n\" style=\"fill:none;stroke:#b0b0b0;stroke-width:0.8;\"/>\r\n    <path d=\"M 310.407116 87.412448 \r\nL 149.852052 59.582978 \r\nL 50.512267 109.418113 \r\n\" style=\"fill:none;stroke:#b0b0b0;stroke-width:0.8;\"/>\r\n    <path d=\"M 311.231474 74.091676 \r\nL 149.649744 46.664679 \r\nL 49.630912 95.78983 \r\n\" style=\"fill:none;stroke:#b0b0b0;stroke-width:0.8;\"/>\r\n    <path d=\"M 312.066537 60.597918 \r\nL 149.444924 33.585897 \r\nL 48.737718 81.978491 \r\n\" style=\"fill:none;stroke:#b0b0b0;stroke-width:0.8;\"/>\r\n   </g>\r\n   <g id=\"xtick_12\">\r\n    <g id=\"line2d_15\">\r\n     <path d=\"M 305.140487 151.286767 \r\nL 309.038504 152.02991 \r\n\" style=\"fill:none;stroke:#000000;stroke-linecap:square;stroke-width:0.8;\"/>\r\n    </g>\r\n    <g id=\"text_14\">\r\n     <!-- −5 -->\r\n     <defs>\r\n      <path d=\"M 10.59375 35.5 \r\nL 73.1875 35.5 \r\nL 73.1875 27.203125 \r\nL 10.59375 27.203125 \r\nz\r\n\" id=\"DejaVuSans-2212\"/>\r\n     </defs>\r\n     <g transform=\"translate(318.50583 157.325359)scale(0.1 -0.1)\">\r\n      <use xlink:href=\"#DejaVuSans-2212\"/>\r\n      <use x=\"83.789062\" xlink:href=\"#DejaVuSans-35\"/>\r\n     </g>\r\n    </g>\r\n   </g>\r\n   <g id=\"xtick_13\">\r\n    <g id=\"line2d_16\">\r\n     <path d=\"M 305.905904 138.785804 \r\nL 309.829101 139.520491 \r\n\" style=\"fill:none;stroke:#000000;stroke-linecap:square;stroke-width:0.8;\"/>\r\n    </g>\r\n    <g id=\"text_15\">\r\n     <!-- 0 -->\r\n     <g transform=\"translate(323.588671 144.842176)scale(0.1 -0.1)\">\r\n      <use xlink:href=\"#DejaVuSans-30\"/>\r\n     </g>\r\n    </g>\r\n   </g>\r\n   <g id=\"xtick_14\">\r\n    <g id=\"line2d_17\">\r\n     <path d=\"M 306.680944 126.12766 \r\nL 310.629649 126.853619 \r\n\" style=\"fill:none;stroke:#000000;stroke-linecap:square;stroke-width:0.8;\"/>\r\n    </g>\r\n    <g id=\"text_16\">\r\n     <!-- 5 -->\r\n     <g transform=\"translate(324.492872 132.202383)scale(0.1 -0.1)\">\r\n      <use xlink:href=\"#DejaVuSans-35\"/>\r\n     </g>\r\n    </g>\r\n   </g>\r\n   <g id=\"xtick_15\">\r\n    <g id=\"line2d_18\">\r\n     <path d=\"M 307.465791 113.309352 \r\nL 311.440337 114.026302 \r\n\" style=\"fill:none;stroke:#000000;stroke-linecap:square;stroke-width:0.8;\"/>\r\n    </g>\r\n    <g id=\"text_17\">\r\n     <!-- 10 -->\r\n     <g transform=\"translate(322.227239 119.403015)scale(0.1 -0.1)\">\r\n      <use xlink:href=\"#DejaVuSans-31\"/>\r\n      <use x=\"63.623047\" xlink:href=\"#DejaVuSans-30\"/>\r\n     </g>\r\n    </g>\r\n   </g>\r\n   <g id=\"xtick_16\">\r\n    <g id=\"line2d_19\">\r\n     <path d=\"M 308.260632 100.327821 \r\nL 312.261359 101.035473 \r\n\" style=\"fill:none;stroke:#000000;stroke-linecap:square;stroke-width:0.8;\"/>\r\n    </g>\r\n    <g id=\"text_18\">\r\n     <!-- 15 -->\r\n     <g transform=\"translate(323.154488 106.44103)scale(0.1 -0.1)\">\r\n      <use xlink:href=\"#DejaVuSans-31\"/>\r\n      <use x=\"63.623047\" xlink:href=\"#DejaVuSans-35\"/>\r\n     </g>\r\n    </g>\r\n   </g>\r\n   <g id=\"xtick_17\">\r\n    <g id=\"line2d_20\">\r\n     <path d=\"M 309.065659 87.179929 \r\nL 313.092914 87.877985 \r\n\" style=\"fill:none;stroke:#000000;stroke-linecap:square;stroke-width:0.8;\"/>\r\n    </g>\r\n    <g id=\"text_19\">\r\n     <!-- 20 -->\r\n     <g transform=\"translate(324.093593 93.31331)scale(0.1 -0.1)\">\r\n      <use xlink:href=\"#DejaVuSans-32\"/>\r\n      <use x=\"63.623047\" xlink:href=\"#DejaVuSans-30\"/>\r\n     </g>\r\n    </g>\r\n   </g>\r\n   <g id=\"xtick_18\">\r\n    <g id=\"line2d_21\">\r\n     <path d=\"M 309.881069 73.862458 \r\nL 313.935206 74.55061 \r\n\" style=\"fill:none;stroke:#000000;stroke-linecap:square;stroke-width:0.8;\"/>\r\n    </g>\r\n    <g id=\"text_20\">\r\n     <!-- 25 -->\r\n     <g transform=\"translate(325.044784 80.016655)scale(0.1 -0.1)\">\r\n      <use xlink:href=\"#DejaVuSans-32\"/>\r\n      <use x=\"63.623047\" xlink:href=\"#DejaVuSans-35\"/>\r\n     </g>\r\n    </g>\r\n   </g>\r\n   <g id=\"xtick_19\">\r\n    <g id=\"line2d_22\">\r\n     <path d=\"M 310.707064 60.372104 \r\nL 314.788444 61.050036 \r\n\" style=\"fill:none;stroke:#000000;stroke-linecap:square;stroke-width:0.8;\"/>\r\n    </g>\r\n    <g id=\"text_21\">\r\n     <!-- 30 -->\r\n     <defs>\r\n      <path d=\"M 40.578125 39.3125 \r\nQ 47.65625 37.796875 51.625 33 \r\nQ 55.609375 28.21875 55.609375 21.1875 \r\nQ 55.609375 10.40625 48.1875 4.484375 \r\nQ 40.765625 -1.421875 27.09375 -1.421875 \r\nQ 22.515625 -1.421875 17.65625 -0.515625 \r\nQ 12.796875 0.390625 7.625 2.203125 \r\nL 7.625 11.71875 \r\nQ 11.71875 9.328125 16.59375 8.109375 \r\nQ 21.484375 6.890625 26.8125 6.890625 \r\nQ 36.078125 6.890625 40.9375 10.546875 \r\nQ 45.796875 14.203125 45.796875 21.1875 \r\nQ 45.796875 27.640625 41.28125 31.265625 \r\nQ 36.765625 34.90625 28.71875 34.90625 \r\nL 20.21875 34.90625 \r\nL 20.21875 43.015625 \r\nL 29.109375 43.015625 \r\nQ 36.375 43.015625 40.234375 45.921875 \r\nQ 44.09375 48.828125 44.09375 54.296875 \r\nQ 44.09375 59.90625 40.109375 62.90625 \r\nQ 36.140625 65.921875 28.71875 65.921875 \r\nQ 24.65625 65.921875 20.015625 65.03125 \r\nQ 15.375 64.15625 9.8125 62.3125 \r\nL 9.8125 71.09375 \r\nQ 15.4375 72.65625 20.34375 73.4375 \r\nQ 25.25 74.21875 29.59375 74.21875 \r\nQ 40.828125 74.21875 47.359375 69.109375 \r\nQ 53.90625 64.015625 53.90625 55.328125 \r\nQ 53.90625 49.265625 50.4375 45.09375 \r\nQ 46.96875 40.921875 40.578125 39.3125 \r\nz\r\n\" id=\"DejaVuSans-33\"/>\r\n     </defs>\r\n     <g transform=\"translate(326.008294 66.547783)scale(0.1 -0.1)\">\r\n      <use xlink:href=\"#DejaVuSans-33\"/>\r\n      <use x=\"63.623047\" xlink:href=\"#DejaVuSans-30\"/>\r\n     </g>\r\n    </g>\r\n   </g>\r\n  </g>\r\n  <g id=\"axes_1\">\r\n   <g id=\"Poly3DCollection_1\"/>\r\n   <g id=\"Path3DCollection_1\">\r\n    <defs>\r\n     <path d=\"M 0 2.236068 \r\nC 0.593012 2.236068 1.161816 2.000462 1.581139 1.581139 \r\nC 2.000462 1.161816 2.236068 0.593012 2.236068 0 \r\nC 2.236068 -0.593012 2.000462 -1.161816 1.581139 -1.581139 \r\nC 1.161816 -2.000462 0.593012 -2.236068 0 -2.236068 \r\nC -0.593012 -2.236068 -1.161816 -2.000462 -1.581139 -1.581139 \r\nC -2.000462 -1.161816 -2.236068 -0.593012 -2.236068 0 \r\nC -2.236068 0.593012 -2.000462 1.161816 -1.581139 1.581139 \r\nC -1.161816 2.000462 -0.593012 2.236068 0 2.236068 \r\nz\r\n\" id=\"C0_0_b3fb77aac4\"/>\r\n    </defs>\r\n    <g clip-path=\"url(#pb69d2415fe)\">\r\n     <use style=\"fill:#1f77b4;fill-opacity:0.798669;stroke:#1f77b4;stroke-opacity:0.798669;\" x=\"125.36969\" xlink:href=\"#C0_0_b3fb77aac4\" y=\"97.470903\"/>\r\n    </g>\r\n    <g clip-path=\"url(#pb69d2415fe)\">\r\n     <use style=\"fill:#1f77b4;fill-opacity:0.716721;stroke:#1f77b4;stroke-opacity:0.716721;\" x=\"128.425158\" xlink:href=\"#C0_0_b3fb77aac4\" y=\"89.738325\"/>\r\n    </g>\r\n    <g clip-path=\"url(#pb69d2415fe)\">\r\n     <use style=\"fill:#1f77b4;fill-opacity:0.649783;stroke:#1f77b4;stroke-opacity:0.649783;\" x=\"130.988425\" xlink:href=\"#C0_0_b3fb77aac4\" y=\"83.386198\"/>\r\n    </g>\r\n    <g clip-path=\"url(#pb69d2415fe)\">\r\n     <use style=\"fill:#1f77b4;fill-opacity:0.574009;stroke:#1f77b4;stroke-opacity:0.574009;\" x=\"135.362132\" xlink:href=\"#C0_0_b3fb77aac4\" y=\"76.236663\"/>\r\n    </g>\r\n    <g clip-path=\"url(#pb69d2415fe)\">\r\n     <use style=\"fill:#1f77b4;fill-opacity:0.50188;stroke:#1f77b4;stroke-opacity:0.50188;\" x=\"137.334572\" xlink:href=\"#C0_0_b3fb77aac4\" y=\"69.431014\"/>\r\n    </g>\r\n    <g clip-path=\"url(#pb69d2415fe)\">\r\n     <use style=\"fill:#1f77b4;fill-opacity:0.438937;stroke:#1f77b4;stroke-opacity:0.438937;\" x=\"139.73575\" xlink:href=\"#C0_0_b3fb77aac4\" y=\"63.492061\"/>\r\n    </g>\r\n    <g clip-path=\"url(#pb69d2415fe)\">\r\n     <use style=\"fill:#1f77b4;fill-opacity:0.367904;stroke:#1f77b4;stroke-opacity:0.367904;\" x=\"143.881192\" xlink:href=\"#C0_0_b3fb77aac4\" y=\"56.721005\"/>\r\n    </g>\r\n    <g clip-path=\"url(#pb69d2415fe)\">\r\n     <use style=\"fill:#1f77b4;fill-opacity:0.3;stroke:#1f77b4;stroke-opacity:0.3;\" x=\"145.70654\" xlink:href=\"#C0_0_b3fb77aac4\" y=\"50.348707\"/>\r\n    </g>\r\n    <g clip-path=\"url(#pb69d2415fe)\">\r\n     <use style=\"fill:#1f77b4;fill-opacity:0.749398;stroke:#1f77b4;stroke-opacity:0.749398;\" x=\"211.399108\" xlink:href=\"#C0_0_b3fb77aac4\" y=\"79.311782\"/>\r\n    </g>\r\n    <g clip-path=\"url(#pb69d2415fe)\">\r\n     <use style=\"fill:#1f77b4;fill-opacity:0.456478;stroke:#1f77b4;stroke-opacity:0.456478;\" x=\"262.443037\" xlink:href=\"#C0_0_b3fb77aac4\" y=\"65.077389\"/>\r\n    </g>\r\n    <g clip-path=\"url(#pb69d2415fe)\">\r\n     <use style=\"fill:#1f77b4;fill-opacity:0.715173;stroke:#1f77b4;stroke-opacity:0.715173;\" x=\"228.02763\" xlink:href=\"#C0_0_b3fb77aac4\" y=\"80.750781\"/>\r\n    </g>\r\n    <g clip-path=\"url(#pb69d2415fe)\">\r\n     <use style=\"fill:#1f77b4;fill-opacity:0.524924;stroke:#1f77b4;stroke-opacity:0.524924;\" x=\"260.335066\" xlink:href=\"#C0_0_b3fb77aac4\" y=\"71.53476\"/>\r\n    </g>\r\n    <g clip-path=\"url(#pb69d2415fe)\">\r\n     <use style=\"fill:#1f77b4;fill-opacity:0.745536;stroke:#1f77b4;stroke-opacity:0.745536;\" x=\"233.348357\" xlink:href=\"#C0_0_b3fb77aac4\" y=\"85.687872\"/>\r\n    </g>\r\n    <g clip-path=\"url(#pb69d2415fe)\">\r\n     <use style=\"fill:#1f77b4;fill-opacity:0.602845;stroke:#1f77b4;stroke-opacity:0.602845;\" x=\"259.055378\" xlink:href=\"#C0_0_b3fb77aac4\" y=\"78.814826\"/>\r\n    </g>\r\n    <g clip-path=\"url(#pb69d2415fe)\">\r\n     <use style=\"fill:#1f77b4;fill-opacity:0.76794;stroke:#1f77b4;stroke-opacity:0.76794;\" x=\"242.1638\" xlink:href=\"#C0_0_b3fb77aac4\" y=\"90.226332\"/>\r\n    </g>\r\n    <g clip-path=\"url(#pb69d2415fe)\">\r\n     <use style=\"fill:#1f77b4;fill-opacity:0.673953;stroke:#1f77b4;stroke-opacity:0.673953;\" x=\"256.946843\" xlink:href=\"#C0_0_b3fb77aac4\" y=\"85.486688\"/>\r\n    </g>\r\n    <g clip-path=\"url(#pb69d2415fe)\">\r\n     <use style=\"fill:#1f77b4;fill-opacity:0.75274;stroke:#1f77b4;stroke-opacity:0.75274;\" x=\"253.897551\" xlink:href=\"#C0_0_b3fb77aac4\" y=\"92.627059\"/>\r\n    </g>\r\n    <g clip-path=\"url(#pb69d2415fe)\">\r\n     <use style=\"fill:#1f77b4;stroke:#1f77b4;\" x=\"211.905692\" xlink:href=\"#C0_0_b3fb77aac4\" y=\"116.355192\"/>\r\n    </g>\r\n    <g clip-path=\"url(#pb69d2415fe)\">\r\n     <use style=\"fill:#1f77b4;fill-opacity:0.916122;stroke:#1f77b4;stroke-opacity:0.916122;\" x=\"215.558197\" xlink:href=\"#C0_0_b3fb77aac4\" y=\"108.516425\"/>\r\n    </g>\r\n    <g clip-path=\"url(#pb69d2415fe)\">\r\n     <use style=\"fill:#1f77b4;fill-opacity:0.837167;stroke:#1f77b4;stroke-opacity:0.837167;\" x=\"216.6461\" xlink:href=\"#C0_0_b3fb77aac4\" y=\"101.029828\"/>\r\n    </g>\r\n    <g clip-path=\"url(#pb69d2415fe)\">\r\n     <use style=\"fill:#1f77b4;fill-opacity:0.767475;stroke:#1f77b4;stroke-opacity:0.767475;\" x=\"218.469402\" xlink:href=\"#C0_0_b3fb77aac4\" y=\"94.381449\"/>\r\n    </g>\r\n    <g clip-path=\"url(#pb69d2415fe)\">\r\n     <use style=\"fill:#1f77b4;fill-opacity:0.694431;stroke:#1f77b4;stroke-opacity:0.694431;\" x=\"221.262742\" xlink:href=\"#C0_0_b3fb77aac4\" y=\"87.454479\"/>\r\n    </g>\r\n    <g clip-path=\"url(#pb69d2415fe)\">\r\n     <use style=\"fill:#1f77b4;fill-opacity:0.962787;stroke:#1f77b4;stroke-opacity:0.962787;\" x=\"216.770713\" xlink:href=\"#C0_0_b3fb77aac4\" y=\"98.543653\"/>\r\n    </g>\r\n    <g clip-path=\"url(#pb69d2415fe)\">\r\n     <use style=\"fill:#1f77b4;fill-opacity:0.619811;stroke:#1f77b4;stroke-opacity:0.619811;\" x=\"222.088743\" xlink:href=\"#C0_0_b3fb77aac4\" y=\"80.451058\"/>\r\n    </g>\r\n    <g clip-path=\"url(#pb69d2415fe)\">\r\n     <use style=\"fill:#1f77b4;fill-opacity:0.890497;stroke:#1f77b4;stroke-opacity:0.890497;\" x=\"218.624523\" xlink:href=\"#C0_0_b3fb77aac4\" y=\"91.83094\"/>\r\n    </g>\r\n    <g clip-path=\"url(#pb69d2415fe)\">\r\n     <use style=\"fill:#1f77b4;fill-opacity:0.549516;stroke:#1f77b4;stroke-opacity:0.549516;\" x=\"224.621948\" xlink:href=\"#C0_0_b3fb77aac4\" y=\"73.784184\"/>\r\n    </g>\r\n    <g clip-path=\"url(#pb69d2415fe)\">\r\n     <use style=\"fill:#1f77b4;fill-opacity:0.811691;stroke:#1f77b4;stroke-opacity:0.811691;\" x=\"219.760452\" xlink:href=\"#C0_0_b3fb77aac4\" y=\"84.480547\"/>\r\n    </g>\r\n    <g clip-path=\"url(#pb69d2415fe)\">\r\n     <use style=\"fill:#1f77b4;fill-opacity:0.472893;stroke:#1f77b4;stroke-opacity:0.472893;\" x=\"226.28411\" xlink:href=\"#C0_0_b3fb77aac4\" y=\"66.590992\"/>\r\n    </g>\r\n    <g clip-path=\"url(#pb69d2415fe)\">\r\n     <use style=\"fill:#1f77b4;fill-opacity:0.737902;stroke:#1f77b4;stroke-opacity:0.737902;\" x=\"222.304712\" xlink:href=\"#C0_0_b3fb77aac4\" y=\"77.631299\"/>\r\n    </g>\r\n    <g clip-path=\"url(#pb69d2415fe)\">\r\n     <use style=\"fill:#1f77b4;fill-opacity:0.406242;stroke:#1f77b4;stroke-opacity:0.406242;\" x=\"228.801442\" xlink:href=\"#C0_0_b3fb77aac4\" y=\"60.303251\"/>\r\n    </g>\r\n    <g clip-path=\"url(#pb69d2415fe)\">\r\n     <use style=\"fill:#1f77b4;fill-opacity:0.665343;stroke:#1f77b4;stroke-opacity:0.665343;\" x=\"224.880229\" xlink:href=\"#C0_0_b3fb77aac4\" y=\"70.824482\"/>\r\n    </g>\r\n    <g clip-path=\"url(#pb69d2415fe)\">\r\n     <use style=\"fill:#1f77b4;fill-opacity:0.591264;stroke:#1f77b4;stroke-opacity:0.591264;\" x=\"225.911876\" xlink:href=\"#C0_0_b3fb77aac4\" y=\"63.986421\"/>\r\n    </g>\r\n    <g clip-path=\"url(#pb69d2415fe)\">\r\n     <use style=\"fill:#1f77b4;fill-opacity:0.884651;stroke:#1f77b4;stroke-opacity:0.884651;\" x=\"153.479377\" xlink:href=\"#C0_0_b3fb77aac4\" y=\"105.546984\"/>\r\n    </g>\r\n    <g clip-path=\"url(#pb69d2415fe)\">\r\n     <use style=\"fill:#1f77b4;fill-opacity:0.808814;stroke:#1f77b4;stroke-opacity:0.808814;\" x=\"156.845342\" xlink:href=\"#C0_0_b3fb77aac4\" y=\"98.354697\"/>\r\n    </g>\r\n    <g clip-path=\"url(#pb69d2415fe)\">\r\n     <use style=\"fill:#1f77b4;fill-opacity:0.726901;stroke:#1f77b4;stroke-opacity:0.726901;\" x=\"159.281104\" xlink:href=\"#C0_0_b3fb77aac4\" y=\"90.590086\"/>\r\n    </g>\r\n    <g clip-path=\"url(#pb69d2415fe)\">\r\n     <use style=\"fill:#1f77b4;fill-opacity:0.654612;stroke:#1f77b4;stroke-opacity:0.654612;\" x=\"162.676279\" xlink:href=\"#C0_0_b3fb77aac4\" y=\"83.770021\"/>\r\n    </g>\r\n    <g clip-path=\"url(#pb69d2415fe)\">\r\n     <use style=\"fill:#1f77b4;fill-opacity:0.583512;stroke:#1f77b4;stroke-opacity:0.583512;\" x=\"165.838777\" xlink:href=\"#C0_0_b3fb77aac4\" y=\"77.062186\"/>\r\n    </g>\r\n    <g clip-path=\"url(#pb69d2415fe)\">\r\n     <use style=\"fill:#1f77b4;fill-opacity:0.514429;stroke:#1f77b4;stroke-opacity:0.514429;\" x=\"168.850816\" xlink:href=\"#C0_0_b3fb77aac4\" y=\"70.509473\"/>\r\n    </g>\r\n    <g clip-path=\"url(#pb69d2415fe)\">\r\n     <use style=\"fill:#1f77b4;fill-opacity:0.443473;stroke:#1f77b4;stroke-opacity:0.443473;\" x=\"170.4523\" xlink:href=\"#C0_0_b3fb77aac4\" y=\"63.850437\"/>\r\n    </g>\r\n    <g clip-path=\"url(#pb69d2415fe)\">\r\n     <use style=\"fill:#1f77b4;fill-opacity:0.37667;stroke:#1f77b4;stroke-opacity:0.37667;\" x=\"173.439951\" xlink:href=\"#C0_0_b3fb77aac4\" y=\"57.547957\"/>\r\n    </g>\r\n    <g clip-path=\"url(#pb69d2415fe)\">\r\n     <use style=\"fill:#1f77b4;fill-opacity:0.31192;stroke:#1f77b4;stroke-opacity:0.31192;\" x=\"176.442245\" xlink:href=\"#C0_0_b3fb77aac4\" y=\"51.439255\"/>\r\n    </g>\r\n    <g clip-path=\"url(#pb69d2415fe)\">\r\n     <use style=\"fill:#1f77b4;fill-opacity:0.604988;stroke:#1f77b4;stroke-opacity:0.604988;\" x=\"187.114694\" xlink:href=\"#C0_0_b3fb77aac4\" y=\"65.716813\"/>\r\n    </g>\r\n    <g clip-path=\"url(#pb69d2415fe)\">\r\n     <use style=\"fill:#1f77b4;fill-opacity:0.670462;stroke:#1f77b4;stroke-opacity:0.670462;\" x=\"184.9484\" xlink:href=\"#C0_0_b3fb77aac4\" y=\"71.909023\"/>\r\n    </g>\r\n    <g clip-path=\"url(#pb69d2415fe)\">\r\n     <use style=\"fill:#1f77b4;fill-opacity:0.746332;stroke:#1f77b4;stroke-opacity:0.746332;\" x=\"183.619034\" xlink:href=\"#C0_0_b3fb77aac4\" y=\"79.02837\"/>\r\n    </g>\r\n    <g clip-path=\"url(#pb69d2415fe)\">\r\n     <use style=\"fill:#1f77b4;fill-opacity:0.484716;stroke:#1f77b4;stroke-opacity:0.484716;\" x=\"279.116522\" xlink:href=\"#C0_0_b3fb77aac4\" y=\"67.706375\"/>\r\n    </g>\r\n    <g clip-path=\"url(#pb69d2415fe)\">\r\n     <use style=\"fill:#1f77b4;fill-opacity:0.820582;stroke:#1f77b4;stroke-opacity:0.820582;\" x=\"180.402023\" xlink:href=\"#C0_0_b3fb77aac4\" y=\"85.890038\"/>\r\n    </g>\r\n    <g clip-path=\"url(#pb69d2415fe)\">\r\n     <use style=\"fill:#1f77b4;fill-opacity:0.558755;stroke:#1f77b4;stroke-opacity:0.558755;\" x=\"276.393431\" xlink:href=\"#C0_0_b3fb77aac4\" y=\"74.584919\"/>\r\n    </g>\r\n    <g clip-path=\"url(#pb69d2415fe)\">\r\n     <use style=\"fill:#1f77b4;fill-opacity:0.896536;stroke:#1f77b4;stroke-opacity:0.896536;\" x=\"181.681289\" xlink:href=\"#C0_0_b3fb77aac4\" y=\"93.355429\"/>\r\n    </g>\r\n    <g clip-path=\"url(#pb69d2415fe)\">\r\n     <use style=\"fill:#1f77b4;fill-opacity:0.78794;stroke:#1f77b4;stroke-opacity:0.78794;\" x=\"218.574818\" xlink:href=\"#C0_0_b3fb77aac4\" y=\"88.329529\"/>\r\n    </g>\r\n    <g clip-path=\"url(#pb69d2415fe)\">\r\n     <use style=\"fill:#1f77b4;fill-opacity:0.632432;stroke:#1f77b4;stroke-opacity:0.632432;\" x=\"276.084082\" xlink:href=\"#C0_0_b3fb77aac4\" y=\"81.534274\"/>\r\n    </g>\r\n   </g>\r\n  </g>\r\n </g>\r\n <defs>\r\n  <clipPath id=\"pb69d2415fe\">\r\n   <rect height=\"217.44\" width=\"334.8\" x=\"10.7\" y=\"10.7\"/>\r\n  </clipPath>\r\n </defs>\r\n</svg>\r\n",
      "text/plain": [
       "<Figure size 432x288 with 1 Axes>"
      ]
     },
     "metadata": {}
    }
   ],
   "metadata": {}
  },
  {
   "cell_type": "code",
   "execution_count": 58,
   "source": [
    "import math \r\n",
    "  \r\n",
    "# Function to find distance \r\n",
    "def shortest_distance(x1, y1, z1, a, b, c, d):   \r\n",
    "    de = abs((a * x1 + b * y1 + c * z1 + d))  \r\n",
    "    e = (math.sqrt(a * a + b * b + c * c)) \r\n",
    "    distance = de/e\r\n",
    "    print(\"Perpendicular distance is\", distance) \r\n",
    "    return distance \r\n",
    "error_sum = 0\r\n",
    "for value in values:   \r\n",
    "    \r\n",
    "    # Function call \r\n",
    "    error_sum = error_sum +  (shortest_distance(value[0], value[1], value[2], normal[0], normal[1], normal[2], d)**2)  \r\n",
    "    print(error_sum)\r\n",
    "rmse = np.sqrt(error_sum/(len(values)-1))  \r\n",
    "print(rmse) \r\n"
   ],
   "outputs": [
    {
     "output_type": "stream",
     "name": "stdout",
     "text": [
      "Perpendicular distance is 0.35141280293464655\n",
      "0.12349095806638473\n",
      "Perpendicular distance is 0.35012455284595484\n",
      "0.24607816057196455\n",
      "Perpendicular distance is 0.3489197194576263\n",
      "0.3678231311983532\n",
      "Perpendicular distance is 0.3393405936658382\n",
      "0.4829751697078367\n",
      "Perpendicular distance is 0.3419370129704475\n",
      "0.5998960905469887\n",
      "Perpendicular distance is 0.340515699237585\n",
      "0.7158470319742501\n",
      "Perpendicular distance is 0.33136953413486475\n",
      "0.8256528001270075\n",
      "Perpendicular distance is 0.33374947309494013\n",
      "0.9370415109181577\n",
      "Perpendicular distance is 0.00587160140275955\n",
      "0.9370759866211905\n",
      "Perpendicular distance is 0.3342545926570892\n",
      "1.048802119333547\n",
      "Perpendicular distance is 0.1186489015817642\n",
      "1.0628796811801062\n",
      "Perpendicular distance is 0.3285601362586021\n",
      "1.1708314443183774\n",
      "Perpendicular distance is 0.16303610429167745\n",
      "1.197412215620984\n",
      "Perpendicular distance is 0.3277601338922977\n",
      "1.304838920990081\n",
      "Perpendicular distance is 0.22674152627587313\n",
      "1.3562506407279935\n",
      "Perpendicular distance is 0.3222376629710197\n",
      "1.460087752165018\n",
      "Perpendicular distance is 0.3109267018735408\n",
      "1.5567631661029757\n",
      "Perpendicular distance is 0.12092794105410573\n",
      "1.571386733030561\n",
      "Perpendicular distance is 0.13094002380967137\n",
      "1.5885320228658384\n",
      "Perpendicular distance is 0.12773865833878514\n",
      "1.6048491877000313\n",
      "Perpendicular distance is 0.12911548465490338\n",
      "1.6215199960777018\n",
      "Perpendicular distance is 0.1355146616697311\n",
      "1.6398842196051635\n",
      "Perpendicular distance is 0.05427697300910948\n",
      "1.642830209404195\n",
      "Perpendicular distance is 0.13182504475116727\n",
      "1.6602080518278424\n",
      "Perpendicular distance is 0.055870279669761644\n",
      "1.6633295399782198\n",
      "Perpendicular distance is 0.13730302080512044\n",
      "1.682181659500431\n",
      "Perpendicular distance is 0.052840895950794206\n",
      "1.6849738197853137\n",
      "Perpendicular distance is 0.13788654655218122\n",
      "1.7039865195054005\n",
      "Perpendicular distance is 0.05793040245771407\n",
      "1.7073424510343131\n",
      "Perpendicular distance is 0.14411373808979985\n",
      "1.7281112205405287\n",
      "Perpendicular distance is 0.0629754178225994\n",
      "1.7320771237904597\n",
      "Perpendicular distance is 0.0603789985179901\n",
      "1.7357227472524952\n",
      "Perpendicular distance is 0.19184987992048258\n",
      "1.7725291236779988\n",
      "Perpendicular distance is 0.18637191131711003\n",
      "1.8072636130059916\n",
      "Perpendicular distance is 0.1866098083555698\n",
      "1.842086833580494\n",
      "Perpendicular distance is 0.17999414354562757\n",
      "1.874484725291218\n",
      "Perpendicular distance is 0.17429969459772107\n",
      "1.9048651088280768\n",
      "Perpendicular distance is 0.1692101880908012\n",
      "1.933497196581801\n",
      "Perpendicular distance is 0.1715901233255863\n",
      "1.962940367004691\n",
      "Perpendicular distance is 0.1658956706523895\n",
      "1.990461740545897\n",
      "Perpendicular distance is 0.15966847911477086\n",
      "2.015955763768721\n",
      "Perpendicular distance is 0.14294734597206113\n",
      "2.0363897074891772\n",
      "Perpendicular distance is 0.14442395418882367\n",
      "2.0572479860327126\n",
      "Perpendicular distance is 0.14025688171386716\n",
      "2.0769199789008104\n",
      "Perpendicular distance is 0.4273243285715579\n",
      "2.259526060689943\n",
      "Perpendicular distance is 0.1468725427985191\n",
      "2.2810976045180458\n",
      "Perpendicular distance is 0.417095761746168\n",
      "2.455066478984662\n",
      "Perpendicular distance is 0.12727194279432294\n",
      "2.4712646264073035\n",
      "Perpendicular distance is 0.0819229446351528\n",
      "2.477975995264998\n",
      "Perpendicular distance is 0.4206133894622325\n",
      "2.6548916186599056\n",
      "0.23276911651957652\n"
     ]
    }
   ],
   "metadata": {}
  },
  {
   "cell_type": "code",
   "execution_count": 8,
   "source": [
    "import math\r\n",
    "angle = math.acos(([0,0,1]@normal)/(np.sqrt((normal[0]*normal[0])+(normal[1]*normal[1])+(normal[2]*normal[2]))*(np.sqrt((0*0)+(0*0)+(1*1)))))"
   ],
   "outputs": [],
   "metadata": {}
  },
  {
   "cell_type": "code",
   "execution_count": 10,
   "source": [
    "grid['angle'] = 9999.9999999\r\n",
    "grid.at[450,'angle'] = np.degrees(angle)"
   ],
   "outputs": [],
   "metadata": {}
  },
  {
   "cell_type": "code",
   "execution_count": 3,
   "source": [
    "from owslib.wms import WebMapService\r\n",
    ">>> wms = WebMapService('https://kartta.hel.fi/ws/geoserver/avoindata/wms', version='1.1.1')\r\n"
   ],
   "outputs": [],
   "metadata": {}
  },
  {
   "cell_type": "code",
   "execution_count": 34,
   "source": [
    "img = wms.getmap(   layers=['avoindata:Ortoilmakuva_2017_20cm'],\r\n",
    "                    srs='EPSG:3879',\r\n",
    "                    bbox=(xmin,ymin,xmax,ymax),\r\n",
    "                    size = (2000,2000),\r\n",
    "                    format='image/geotiff'\r\n",
    "\r\n",
    "\r\n",
    "\r\n",
    "\r\n",
    "                    )           "
   ],
   "outputs": [],
   "metadata": {}
  },
  {
   "cell_type": "code",
   "execution_count": 35,
   "source": [
    "out = open('filepath', 'wb')\r\n",
    "out.write(img.read())"
   ],
   "outputs": [
    {
     "output_type": "execute_result",
     "data": {
      "text/plain": [
       "12002380"
      ]
     },
     "metadata": {},
     "execution_count": 35
    }
   ],
   "metadata": {}
  },
  {
   "cell_type": "code",
   "execution_count": 95,
   "source": [
    "import rasterio\r\n",
    "\r\n",
    "from rasterio.plot import show\r\n",
    "\r\n",
    "from rasterstats import zonal_stats\r\n",
    "from io import BytesIO\r\n",
    "grid_join = 0\r\n",
    "with rasterio.open(BytesIO(img.read())) as r:\r\n",
    "    for i in range(1,4):\r\n",
    "        print(i)\r\n",
    "        array = r.read(i)\r\n",
    "        affine = r.transform\r\n",
    "        grid_join = grid.join(\r\n",
    "        pd.DataFrame(\r\n",
    "            zonal_stats(grid['geometry'], array, affine=affine, stats=['min', 'max', 'mean', 'median', 'majority'])\r\n",
    "            ),\r\n",
    "            how='left'\r\n",
    "        )\r\n",
    "        grid_join = grid_join.rename({'majority': ('majority_'+ str(i)), \r\n",
    "            'max': ('max_'+ str(i)),\r\n",
    "            'mean': ('mean_'+ str(i)),\r\n",
    "            'median': ('median_'+ str(i)),\r\n",
    "            'min': ('min_'+ str(i))\r\n",
    "            }, axis='columns')\r\n",
    "        \r\n",
    "\r\n",
    "grid_join.to_file(\"grid_join_test.shp\")\r\n",
    "    \r\n",
    "    \r\n",
    "    "
   ],
   "outputs": [
    {
     "output_type": "error",
     "ename": "SyntaxError",
     "evalue": "invalid syntax (<ipython-input-95-9c8297f271a7>, line 9)",
     "traceback": [
      "\u001b[1;36m  File \u001b[1;32m\"<ipython-input-95-9c8297f271a7>\"\u001b[1;36m, line \u001b[1;32m9\u001b[0m\n\u001b[1;33m    for i in range(1:3):\u001b[0m\n\u001b[1;37m                    ^\u001b[0m\n\u001b[1;31mSyntaxError\u001b[0m\u001b[1;31m:\u001b[0m invalid syntax\n"
     ]
    }
   ],
   "metadata": {
    "tags": []
   }
  },
  {
   "cell_type": "code",
   "execution_count": 4,
   "source": [
    "import geopandas as gpd\r\n",
    "i_grid = gpd.read_file('grid_image.shp')"
   ],
   "outputs": [],
   "metadata": {}
  },
  {
   "cell_type": "code",
   "execution_count": 43,
   "source": [
    "i_grid.head()\r\n",
    "import colorsys\r\n",
    "\r\n",
    "def rgb_to_hsv(s):\r\n",
    "    colors = colorsys.rgb_to_hsv(s['mean_1']/255,s['mean_2']/255,s['mean_3']/255)\r\n",
    "    s['h'] = colors[0]*255\r\n",
    "    s['s'] = colors[1]*255\r\n",
    "    s['v'] = colors[2]*255\r\n",
    "    return s\r\n",
    "i_grid = i_grid.apply(rgb_to_hsv, axis=1)"
   ],
   "outputs": [],
   "metadata": {
    "tags": []
   }
  },
  {
   "cell_type": "code",
   "execution_count": 58,
   "source": [
    "i_grid['green'] = 0\r\n",
    "i_grid.loc[(i_grid['angle'] < 135) & (i_grid['angle'] > 45), 'green'] = 1\r\n",
    "i_grid.loc[(i_grid['rmse'] > 1), 'green'] = 2\r\n",
    "i_grid.loc[((i_grid['h'] >= 212.5) | (i_grid['h'] <= 127.5)) &(i_grid['s'] >= 32) & (i_grid['v'] <= 144) , 'green'] = 3\r\n",
    "i_grid.loc[(i_grid['rmse'] > 1) & (i_grid['angle'] < 135) & (i_grid['angle'] > 45), 'green'] = 4\r\n",
    "i_grid.loc[(i_grid['h'] >= 212.5) | (i_grid['h'] <= 127.5) &(i_grid['s'] >= 32) & (i_grid['v'] <= 144) & (i_grid['angle'] < 135) & (i_grid['angle'] > 45), 'green'] = 5\r\n",
    "i_grid.loc[(i_grid['rmse'] > 1) & (((i_grid['h'] >= 212.5) | (i_grid['h'] <= 127.5)) &(i_grid['s'] >= 32) & (i_grid['v'] <= 144)) , 'green'] = 6\r\n",
    "i_grid.loc[(i_grid['rmse'] > 1) & (((i_grid['h'] >= 212.5) | (i_grid['h'] <= 127.5)) &(i_grid['s'] >= 32) & (i_grid['v'] <= 144)) & (i_grid['angle'] < 135) & (i_grid['angle'] > 45) , 'green'] = 7"
   ],
   "outputs": [],
   "metadata": {}
  },
  {
   "cell_type": "code",
   "execution_count": 59,
   "source": [
    "i_grid.to_file('hsv_test/greentest.shp')"
   ],
   "outputs": [],
   "metadata": {}
  }
 ]
}